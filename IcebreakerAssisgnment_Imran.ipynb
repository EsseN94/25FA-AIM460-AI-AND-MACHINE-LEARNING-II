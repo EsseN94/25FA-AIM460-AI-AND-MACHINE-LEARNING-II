{
 "cells": [
  {
   "cell_type": "code",
   "execution_count": null,
   "metadata": {
    "colab": {
     "base_uri": "https://localhost:8080/"
    },
    "executionInfo": {
     "elapsed": 6,
     "status": "ok",
     "timestamp": 1756347927046,
     "user": {
      "displayName": "Ahsan Imran",
      "userId": "12342140695061238962"
     },
     "user_tz": 240
    },
    "id": "WuNi7YMMYpwi",
    "outputId": "0c67a0e8-7c94-4eb2-914b-fadcd5df89a4"
   },
   "outputs": [
    {
     "name": "stdout",
     "output_type": "stream",
     "text": [
      "Hello world\n"
     ]
    }
   ],
   "source": []
  }
 ],
 "metadata": {
  "colab": {
   "authorship_tag": "ABX9TyP40RafiOzuF9b10OnmQkhN",
   "provenance": []
  },
  "kernelspec": {
   "display_name": "Python 3",
   "name": "python3"
  },
  "language_info": {
   "name": "python"
  }
 },
 "nbformat": 4,
 "nbformat_minor": 0
}
